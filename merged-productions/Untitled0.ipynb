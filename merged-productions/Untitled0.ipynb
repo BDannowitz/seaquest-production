{
 "metadata": {
  "name": ""
 },
 "nbformat": 3,
 "nbformat_minor": 0,
 "worksheets": [
  {
   "cells": [
    {
     "cell_type": "code",
     "collapsed": false,
     "input": [
      "%time %run merge.py"
     ],
     "language": "python",
     "metadata": {},
     "outputs": [
      {
       "output_type": "stream",
       "stream": "stdout",
       "text": [
        "Min/Max SpillID's for run_010042_R004: 355817/355846\n",
        "Dumping run_010042_R004 into merge_dump_11018.sql\n",
        "Clearing out merged_roadset57_TEST of Run 10042 data"
       ]
      },
      {
       "output_type": "stream",
       "stream": "stdout",
       "text": [
        "\n",
        "Clearing out run 10042 data from merged_roadset57_TEST on seaquel.physics.illinois.edu\n",
        "Clearing out run 10042 data from merged_roadset57_TEST on e906-db1.fnal.gov"
       ]
      },
      {
       "output_type": "stream",
       "stream": "stdout",
       "text": [
        "\n",
        "Clearing out run 10042 data from merged_roadset57_TEST on e906-db3.fnal.gov"
       ]
      },
      {
       "output_type": "stream",
       "stream": "stdout",
       "text": [
        "\n",
        "Clearing out run 10042 data from merged_roadset57_TEST on e906-db2.fnal.gov"
       ]
      },
      {
       "output_type": "stream",
       "stream": "stdout",
       "text": [
        "\n",
        "Loading run_010042_R004 in dump file merge_dump_11018.sql to merged_roadset57_TEST"
       ]
      },
      {
       "output_type": "stream",
       "stream": "stdout",
       "text": [
        "\n",
        "Making tables in merged_roadset57_TEST on seaquel.physics.illinois.edu\n",
        "Loading merge_dump_11018.sql into merged_roadset57_TEST on seaquel.physics.illinois.edu"
       ]
      },
      {
       "output_type": "stream",
       "stream": "stdout",
       "text": [
        "\n",
        "Making tables in merged_roadset57_TEST on e906-db1.fnal.gov"
       ]
      },
      {
       "output_type": "stream",
       "stream": "stdout",
       "text": [
        "\n",
        "Loading merge_dump_11018.sql into merged_roadset57_TEST on e906-db1.fnal.gov"
       ]
      },
      {
       "output_type": "stream",
       "stream": "stdout",
       "text": [
        "\n",
        "Making tables in merged_roadset57_TEST on e906-db3.fnal.gov"
       ]
      },
      {
       "output_type": "stream",
       "stream": "stdout",
       "text": [
        "\n",
        "Loading merge_dump_11018.sql into merged_roadset57_TEST on e906-db3.fnal.gov"
       ]
      },
      {
       "output_type": "stream",
       "stream": "stdout",
       "text": [
        "\n",
        "Making tables in merged_roadset57_TEST on e906-db2.fnal.gov"
       ]
      },
      {
       "output_type": "stream",
       "stream": "stdout",
       "text": [
        "\n",
        "Loading merge_dump_11018.sql into merged_roadset57_TEST on e906-db2.fnal.gov"
       ]
      },
      {
       "output_type": "stream",
       "stream": "stdout",
       "text": [
        "\n",
        "Min/Max SpillID's for run_010044_R004: 355892/355923"
       ]
      },
      {
       "output_type": "stream",
       "stream": "stdout",
       "text": [
        "\n",
        "Dumping run_010044_R004 into merge_dump_11018.sql\n",
        "Clearing out merged_roadset57_TEST of Run 10044 data"
       ]
      },
      {
       "output_type": "stream",
       "stream": "stdout",
       "text": [
        "\n",
        "Clearing out run 10044 data from merged_roadset57_TEST on seaquel.physics.illinois.edu\n",
        "Clearing out run 10044 data from merged_roadset57_TEST on e906-db1.fnal.gov"
       ]
      },
      {
       "output_type": "stream",
       "stream": "stdout",
       "text": [
        "\n",
        "Clearing out run 10044 data from merged_roadset57_TEST on e906-db3.fnal.gov"
       ]
      },
      {
       "output_type": "stream",
       "stream": "stdout",
       "text": [
        "\n",
        "Clearing out run 10044 data from merged_roadset57_TEST on e906-db2.fnal.gov"
       ]
      },
      {
       "output_type": "stream",
       "stream": "stdout",
       "text": [
        "\n",
        "Loading run_010044_R004 in dump file merge_dump_11018.sql to merged_roadset57_TEST"
       ]
      },
      {
       "output_type": "stream",
       "stream": "stdout",
       "text": [
        "\n",
        "Making tables in merged_roadset57_TEST on seaquel.physics.illinois.edu\n",
        "Loading merge_dump_11018.sql into merged_roadset57_TEST on seaquel.physics.illinois.edu"
       ]
      },
      {
       "output_type": "stream",
       "stream": "stdout",
       "text": [
        "\n",
        "Making tables in merged_roadset57_TEST on e906-db1.fnal.gov"
       ]
      },
      {
       "output_type": "stream",
       "stream": "stdout",
       "text": [
        "\n",
        "Loading merge_dump_11018.sql into merged_roadset57_TEST on e906-db1.fnal.gov"
       ]
      },
      {
       "output_type": "stream",
       "stream": "stdout",
       "text": [
        "\n",
        "Making tables in merged_roadset57_TEST on e906-db3.fnal.gov"
       ]
      },
      {
       "output_type": "stream",
       "stream": "stdout",
       "text": [
        "\n",
        "Loading merge_dump_11018.sql into merged_roadset57_TEST on e906-db3.fnal.gov"
       ]
      },
      {
       "output_type": "stream",
       "stream": "stdout",
       "text": [
        "\n",
        "Making tables in merged_roadset57_TEST on e906-db2.fnal.gov"
       ]
      },
      {
       "output_type": "stream",
       "stream": "stdout",
       "text": [
        "\n",
        "Loading merge_dump_11018.sql into merged_roadset57_TEST on e906-db2.fnal.gov"
       ]
      },
      {
       "output_type": "stream",
       "stream": "stdout",
       "text": [
        "\n",
        "CPU times: user 731 ms, sys: 670 ms, total: 1.4 s"
       ]
      },
      {
       "output_type": "stream",
       "stream": "stdout",
       "text": [
        "\n",
        "Wall time: 11min 53s\n"
       ]
      }
     ],
     "prompt_number": 1
    },
    {
     "cell_type": "code",
     "collapsed": false,
     "input": [],
     "language": "python",
     "metadata": {},
     "outputs": []
    }
   ],
   "metadata": {}
  }
 ]
}